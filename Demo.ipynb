{
 "cells": [
  {
   "cell_type": "code",
   "execution_count": null,
   "metadata": {
    "collapsed": true
   },
   "outputs": [],
   "source": [
    "from Finetune_SGD_EBLL import *\n",
    "#SEQUENTIAL TEST\n",
    "#train autoencoder\n",
    "dataset_path='/YOUR OWN PATH/datasets/scenes/dataset.pth.tar'#change to yours\n",
    "model_path='/YOUR OWN PATH/object_recognition_exp/scenes/best_model.pth.tar'#first task trained model\n",
    "init_model_path=None#\n",
    "num_epochs=200\n",
    "\n",
    "\n",
    "exp_dir='/YOUR OWN PATH/object_recognition_exp/scenes_Autoencoder_EBLL'\n",
    "\n",
    "fine_tune_Adam_Autoencoder(dataset_path=dataset_path,previous_task_model_path=model_path,init_model_path=init_model_path,exp_dir=exp_dir,batch_size=200,num_epochs=num_epochs,init_freeze=1,lr=0.1,alpha=1e-1)\n",
    "\n",
    "#warm up phase\n",
    "dataset_path='/YOUR OWN PATH/datasets/Cub11f/dataset.pth.tar'\n",
    "exp_dir='/YOUR OWN PATH/object_recognition_exp/cub_sc_ebll3_freeze/'\n",
    "\n",
    "num_epochs=100\n",
    "\n",
    "model_path='/YOUR OWN PATH/object_recognition_exp/scenes/best_model.pth.tar'#first task trained model\n",
    " \n",
    "\n",
    "fine_tune_freeze(dataset_path=dataset_path,model_path=model_path,exp_dir=exp_dir,batch_size=200,num_epochs=100,lr=0.0008)\n",
    "\n",
    "# Train EBLL on a new task\n",
    "dataset_path='/YOUR OWN PATH/datasets/Cub11f/dataset.pth.tar'\n",
    "model_path='/YOUR OWN PATH/object_recognition_exp/scenes/best_model.pth.tar'#first task trained model\n",
    "init_model_path='/YOUR OWN PATH/object_recognition_exp/cub_sc_ebll3_freeze/best_model.pth.tar'\n",
    "\n",
    "num_epochs=100\n",
    "\n",
    "\n",
    "exp_dir='/YOUR OWN PATH/object_recognition_exp/sc_cub_EBLL/'\n",
    "\n",
    "autoencoder_model_path='/YOUR OWN PATH/object_recognition_exp/scenes_Autoencoder_EBLL/best_model.pth.tar'\n",
    "fine_tune_SGD_EBLL(dataset_path,model_path,autoencoder_model_path,init_model_path,exp_dir,batch_size=200, num_epochs=100,lr=0.0008,init_freeze=1,pretrained=True,alpha=1e-1)\n"
   ]
  }
 ],
 "metadata": {
  "kernelspec": {
   "display_name": "Python 3",
   "language": "python",
   "name": "python3"
  },
  "language_info": {
   "codemirror_mode": {
    "name": "ipython",
    "version": 3
   },
   "file_extension": ".py",
   "mimetype": "text/x-python",
   "name": "python",
   "nbconvert_exporter": "python",
   "pygments_lexer": "ipython3",
   "version": "3.6.3"
  }
 },
 "nbformat": 4,
 "nbformat_minor": 2
}
