{
 "cells": [
  {
   "cell_type": "code",
   "execution_count": 6,
   "metadata": {},
   "outputs": [
    {
     "name": "stdout",
     "output_type": "stream",
     "text": [
      "Overwriting AlexNet_EBLL.py\n"
     ]
    }
   ],
   "source": [
    "%%writefile AlexNet_EBLL.py\n",
    "\n",
    "from __future__ import print_function, division\n",
    "\n",
    "import torch\n",
    "import torch.nn as nn\n",
    "import torch.optim as optim\n",
    "from torch.autograd import Variable\n",
    "import numpy as np\n",
    "import torchvision\n",
    "import torch.utils.data as data\n",
    "import torchvision\n",
    "from torchvision import datasets, models, transforms\n",
    "import sys\n",
    "import pdb\n",
    "\n",
    "\n",
    "\n",
    "class AutoEncoder(torch.nn.Module):\n",
    "    def __init__(self, x_dim, h1_dim):\n",
    "        super(AutoEncoder, self).__init__()\n",
    "        self.encode = nn.Sequential( \n",
    "            #fc layers for the encoder\n",
    "            nn.Linear(x_dim , h1_dim),\n",
    "            nn.Sigmoid())\n",
    "        \n",
    "        #fc layers for the decoder\n",
    "        self.decode = nn.Sequential( \n",
    "            nn.Linear(h1_dim, x_dim),\n",
    "\n",
    "        )\n",
    "        \n",
    "\n",
    "    def forward(self, x):\n",
    "        h = self.encode(x) \n",
    "        x_recon = self.decode(h)        \n",
    "        return x_recon"
   ]
  },
  {
   "cell_type": "code",
   "execution_count": 7,
   "metadata": {},
   "outputs": [
    {
     "name": "stdout",
     "output_type": "stream",
     "text": [
      "Appending to AlexNet_EBLL.py\n"
     ]
    }
   ],
   "source": [
    "%%writefile -a AlexNet_EBLL.py\n",
    "\n",
    "class autoencoders(torch.nn.Module):\n",
    "    def __init__(self,autoencoder):\n",
    "        super(autoencoders, self).__init__()\n",
    "        self.add_module('0',autoencoder.encode)\n",
    "          \n",
    "    def forward(self, x):\n",
    "        outputs=[]\n",
    "       \n",
    "        for name, module in self._modules.items():\n",
    "                outputs.append(module(x))\n",
    "          \n",
    "        return outputs"
   ]
  },
  {
   "cell_type": "code",
   "execution_count": 8,
   "metadata": {},
   "outputs": [
    {
     "name": "stdout",
     "output_type": "stream",
     "text": [
      "Appending to AlexNet_EBLL.py\n"
     ]
    }
   ],
   "source": [
    "%%writefile -a AlexNet_EBLL.py\n",
    "\n",
    "\n",
    "\n",
    "\n",
    "class AlexNet_ENCODER(nn.Module):\n",
    "    def __init__(self, alexnet,dim=100):\n",
    "        super(AlexNet_ENCODER, self).__init__()\n",
    "        \n",
    "        self.add_module('features',alexnet.features)\n",
    "        self.add_module('autoencoder',AutoEncoder(256 * 6 * 6,dim))\n",
    "        self.add_module('classifier',alexnet.classifier)\n",
    "      \n",
    "       \n",
    "        \n",
    "    def forward(self, x):\n",
    "        \n",
    "        sub_index=0\n",
    "        \n",
    "        encoder=False\n",
    "        last_layer=False\n",
    "        for name, module in self._modules.items():\n",
    "                \n",
    "                for namex, modulex in module._modules.items():\n",
    "                    if last_layer:\n",
    "                        out = modulex(x)\n",
    "                    else:\n",
    "                        x= modulex(x)\n",
    "                    if name=='classifier' and namex=='5':\n",
    "                        last_layer=True\n",
    "                if name=='autoencoder':\n",
    "                    encoder_output=x\n",
    " \n",
    "                    \n",
    "                #for reshaping the fully connected layers\n",
    "                #need to be changed for \n",
    "                if sub_index==0:\n",
    "                  \n",
    "                    x = x.view(x.size(0), 256 * 6 * 6)\n",
    "                    encoder_input=x.data.clone()\n",
    "                    #forward to the encoder\n",
    "                sub_index+=1\n",
    "        #pdb.set_trace()        \n",
    "        return out,encoder_input,encoder_output\n",
    "    "
   ]
  },
  {
   "cell_type": "code",
   "execution_count": 9,
   "metadata": {},
   "outputs": [
    {
     "name": "stdout",
     "output_type": "stream",
     "text": [
      "Appending to AlexNet_EBLL.py\n"
     ]
    }
   ],
   "source": [
    "%%writefile -a AlexNet_EBLL.py\n",
    "\n",
    "\n",
    "class AlexNet_EBLL(nn.Module):\n",
    "    def __init__(self, module,autoencoder):\n",
    "        super(AlexNet_EBLL, self).__init__()\n",
    "        self.add_module('features',module.features)\n",
    "        self.add_module('autoencoders',autoencoders(autoencoder))\n",
    "        self.add_module('classifier',module.classifier)\n",
    "      \n",
    "       \n",
    "        \n",
    "    def forward(self, x):\n",
    "        \n",
    "        sub_index=0\n",
    "        last_layer=False\n",
    "        for name, module in self._modules.items():\n",
    "                if name =='autoencoders':\n",
    "                    codes=module(x)\n",
    "                else:    \n",
    "                    for namex, modulex in module._modules.items():\n",
    "\n",
    "                        if last_layer:\n",
    "                            outputs.append(modulex(x))\n",
    "                        else:\n",
    "\n",
    "                             x = modulex(x)\n",
    "\n",
    "                        if name=='classifier' and namex=='5':\n",
    "\n",
    "                            last_layer=True\n",
    "                            outputs=[]\n",
    "\n",
    "                #for reshaping the fully connected layers\n",
    "                #need to be changed for \n",
    "                if sub_index==0:\n",
    "                    \n",
    "                    x = x.view(x.size(0), 256 * 6 * 6)\n",
    "                sub_index+=1\n",
    "        #pdb.set_trace()        \n",
    "        return outputs,codes\n",
    "    "
   ]
  },
  {
   "cell_type": "code",
   "execution_count": null,
   "metadata": {
    "collapsed": true
   },
   "outputs": [],
   "source": []
  }
 ],
 "metadata": {
  "kernelspec": {
   "display_name": "Python 3",
   "language": "python",
   "name": "python3"
  },
  "language_info": {
   "codemirror_mode": {
    "name": "ipython",
    "version": 3
   },
   "file_extension": ".py",
   "mimetype": "text/x-python",
   "name": "python",
   "nbconvert_exporter": "python",
   "pygments_lexer": "ipython3",
   "version": "3.6.3"
  }
 },
 "nbformat": 4,
 "nbformat_minor": 2
}
